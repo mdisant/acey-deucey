{
 "cells": [
  {
   "cell_type": "markdown",
   "metadata": {},
   "source": [
    "# Solving Acey Deucey using Reinforcement Learning\n",
    "[Michael DiSanto](https://www.michaelpdisanto.com) - 2023"
   ]
  },
  {
   "cell_type": "markdown",
   "metadata": {},
   "source": [
    "## Project Objective\n",
    "The objective of this project is to design and implement a reinforcement learning-based optimal betting strategy for the card game \"Acey-Deucey\" (also known as \"In Between\"). Through the use of object-oriented programming in Python, we aim to create an intelligent agent that can learn and adapt its betting decisions during gameplay. This agent will consider factors such as the current state of the game, the player's hand, and the pot's size to make informed betting choices. By developing this AI player, I seek to optimize the player's betting decisions, ultimately increasing their chances of success and accumulating the most chips by the end of the game. This project will explore the intersection of game theory, machine learning, and strategic decision-making to achieve an effective and competitive Acey Deucey player."
   ]
  },
  {
   "cell_type": "markdown",
   "metadata": {},
   "source": [
    "## Acey Deucey Description\n",
    "In-Between is not very popular at casinos, but is often played in home Poker games as a break from Poker itself. The rules below are for the home game, which is easily adaptable for casino play.\n",
    "\n",
    "### Rank of Cards\n",
    "A (high), K, Q, J, 10, 9, 8, 7, 6, 5, 4, 3, 2.\n",
    "\n",
    "### Object of the Game\n",
    "The goal is to be the player with the most chips at the end of the game.\n",
    "\n",
    "### The Ante\n",
    "Chips are distributed to the players, and each players puts one chip in the center of the table to form a pool or pot.\n",
    "\n",
    "### The Draw\n",
    "Any player deals one card face up, to each player in turn, and the player with the highest card deals first.\n",
    "\n",
    "### The Shuffle, Cut, and Deal\n",
    "Any player may shuffle, and the dealer shuffles last. The player to the dealer's right cuts the cards. The dealer turns up two cards and places them in the middle of the table, positioning them so that there is ample room for a third card to fit in between.\n",
    "\n",
    "### The Betting\n",
    "The player on the dealer's left may bet up to the entire pot or any portion of the number of chips in the pot, but they must always bet a minimum of one chip. When the player has placed a bet, the dealer turns up the top card from the pack and places it between the two cards already face up. If the card ranks between the two cards already face up, the player wins and takes back the amount of his bet plus an equivalent amount from the pot. If the third card is not between the face-up cards, or is of the same rank as either of them, the player loses his bet, and it is added to the pot. If the two face-up cards up are consecutive, the player automatically loses, and a third card need not be turned up. If the two face-up cards are the same, the player wins two chips and, again, no third card is turned up. (In some games, the player is paid three chips when this occurs.)\n",
    "\n",
    "\"Acey-Deucey\" (ace, 2) is the best combination, and a player tends to bet the whole pot, if they can. This is because the only way an ace-deuce combination can lose is if the third card turned up is also an ace or a deuce.\n",
    "\n",
    "After the first player has finished, the dealer clears away the cards and places them face down in a pile. The next player then places a bet, and the dealer repeats the same procedure until all the players, including the dealer, have had a turn.\n",
    "\n",
    "If at any time, the pot has no more chips in it (because a player has \"bet the pot\" and won), each player again puts in one chip to restore the pot.\n",
    "\n",
    "When every player has had a turn to bet, the deal passes to the player on the dealer's left, and the game continues.\n",
    "\n",
    "https://bicyclecards.com/how-to-play/in-between/"
   ]
  },
  {
   "cell_type": "markdown",
   "metadata": {},
   "source": []
  }
 ],
 "metadata": {
  "kernelspec": {
   "display_name": "Python 3 (ipykernel)",
   "language": "python",
   "name": "python3"
  },
  "language_info": {
   "codemirror_mode": {
    "name": "ipython",
    "version": 3
   },
   "file_extension": ".py",
   "mimetype": "text/x-python",
   "name": "python",
   "nbconvert_exporter": "python",
   "pygments_lexer": "ipython3",
   "version": "3.7.16"
  }
 },
 "nbformat": 4,
 "nbformat_minor": 2
}
